{
 "cells": [
  {
   "cell_type": "code",
   "execution_count": 3,
   "metadata": {},
   "outputs": [
    {
     "name": "stdout",
     "output_type": "stream",
     "text": [
      "enter the first no40\n",
      "enter the second no50\n",
      "second no is max\n"
     ]
    }
   ],
   "source": [
    "num1=int(input(\"enter the first no\"))\n",
    "num2 =int(input(\"enter the second no\"))\n",
    "if (num1<num2):\n",
    "    print(\"second no is max\")\n",
    "else:\n",
    "    print(\"first no is max\")"
   ]
  },
  {
   "cell_type": "code",
   "execution_count": 4,
   "metadata": {},
   "outputs": [
    {
     "name": "stdout",
     "output_type": "stream",
     "text": [
      "enter the first no50\n",
      "enter the second no40\n",
      "enter the third no20\n",
      "no first is greatest\n"
     ]
    }
   ],
   "source": [
    "num1=int(input(\"enter the first no\"))\n",
    "num2 =int(input(\"enter the second no\"))\n",
    "num3=int(input(\"enter the third no\"))\n",
    "if (num1<num2):\n",
    "    if (num2<num3):\n",
    "        print(\"no third is largest\")\n",
    "    else:\n",
    "        print(\"no second is greatest\")\n",
    "else:\n",
    "    print(\"no first is greatest\")"
   ]
  },
  {
   "cell_type": "code",
   "execution_count": 7,
   "metadata": {},
   "outputs": [
    {
     "name": "stdout",
     "output_type": "stream",
     "text": [
      "enter the no0\n",
      "no is zero\n"
     ]
    }
   ],
   "source": [
    "num=int(input(\"enter the no\"))\n",
    "if (num>0):\n",
    "    print(\"no is positive\")\n",
    "elif (num<0):\n",
    "    print(\"no is negative\")\n",
    "else:\n",
    "    print (\"no is zero\")"
   ]
  },
  {
   "cell_type": "code",
   "execution_count": 47,
   "metadata": {},
   "outputs": [
    {
     "name": "stdout",
     "output_type": "stream",
     "text": [
      "enter the no55\n",
      "no is   divisible\n"
     ]
    }
   ],
   "source": [
    "num=int(input(\"enter the no\"))\n",
    "if (num%5==0 and num%11==0):\n",
    "    print(\"no is   divisible\")\n",
    "else:\n",
    "      print(\"no is not divisible by 5 and 11\")"
   ]
  },
  {
   "cell_type": "code",
   "execution_count": null,
   "metadata": {},
   "outputs": [],
   "source": []
  },
  {
   "cell_type": "code",
   "execution_count": 26,
   "metadata": {},
   "outputs": [
    {
     "name": "stdout",
     "output_type": "stream",
     "text": [
      "enter the no5\n",
      "no is odd\n"
     ]
    }
   ],
   "source": [
    "num=int(input(\"enter the no\"))\n",
    "if (num%2==0):\n",
    "    print(\"no is even\")\n",
    "else:\n",
    "    print(\"no is odd\")"
   ]
  },
  {
   "cell_type": "code",
   "execution_count": 45,
   "metadata": {},
   "outputs": [
    {
     "name": "stdout",
     "output_type": "stream",
     "text": [
      "enter the year1600\n",
      "not a leap yr\n"
     ]
    }
   ],
   "source": [
    "num=int(input(\"enter the year\"))\n",
    "if (num%4==0 and num%100!=0 or num%400==0):\n",
    "        print(\"leap yr\")\n",
    "else:\n",
    "        print(\"not a leap yr\")"
   ]
  },
  {
   "cell_type": "code",
   "execution_count": 51,
   "metadata": {},
   "outputs": [
    {
     "name": "stdout",
     "output_type": "stream",
     "text": [
      "enter anything5\n",
      "no is a digit\n"
     ]
    }
   ],
   "source": [
    "num= input(\"enter anything\")\n",
    "if ('a'<=num<='z' or 'A'<=num<=Z):\n",
    "    print(\"no is alphabet\")\n",
    "else:\n",
    "    print(\"no is a digit\")"
   ]
  },
  {
   "cell_type": "code",
   "execution_count": 69,
   "metadata": {},
   "outputs": [
    {
     "name": "stdout",
     "output_type": "stream",
     "text": [
      "enter anythingy\n",
      "no is voval\n"
     ]
    }
   ],
   "source": [
    "num= input(\"enter anything\")\n",
    "if (num==\"a\" or num==\"e\" or num==\"i\",num==\"o\",num==\"u\"):\n",
    "    print(\"no is voval\")\n",
    "else:\n",
    "    print(\"no is not a voval\")"
   ]
  },
  {
   "cell_type": "code",
   "execution_count": 58,
   "metadata": {},
   "outputs": [
    {
     "name": "stdout",
     "output_type": "stream",
     "text": [
      "enter anythinga\n"
     ]
    },
    {
     "data": {
      "text/plain": [
       "97"
      ]
     },
     "execution_count": 58,
     "metadata": {},
     "output_type": "execute_result"
    }
   ],
   "source": [
    "num= input(\"enter anything\")\n",
    "ord(num)"
   ]
  },
  {
   "cell_type": "code",
   "execution_count": 60,
   "metadata": {},
   "outputs": [
    {
     "name": "stdout",
     "output_type": "stream",
     "text": [
      "enter anythinge\n"
     ]
    },
    {
     "data": {
      "text/plain": [
       "101"
      ]
     },
     "execution_count": 60,
     "metadata": {},
     "output_type": "execute_result"
    }
   ],
   "source": [
    "num= input(\"enter anything\")\n",
    "ord(num)\n",
    "\n"
   ]
  },
  {
   "cell_type": "code",
   "execution_count": 61,
   "metadata": {},
   "outputs": [
    {
     "name": "stdout",
     "output_type": "stream",
     "text": [
      "enter anythingi\n"
     ]
    },
    {
     "data": {
      "text/plain": [
       "105"
      ]
     },
     "execution_count": 61,
     "metadata": {},
     "output_type": "execute_result"
    }
   ],
   "source": [
    "num= input(\"enter anything\")\n",
    "ord(num)"
   ]
  },
  {
   "cell_type": "code",
   "execution_count": 64,
   "metadata": {},
   "outputs": [
    {
     "name": "stdout",
     "output_type": "stream",
     "text": [
      "enter anythingo\n"
     ]
    },
    {
     "data": {
      "text/plain": [
       "111"
      ]
     },
     "execution_count": 64,
     "metadata": {},
     "output_type": "execute_result"
    }
   ],
   "source": [
    "num= input(\"enter anything\")\n",
    "ord(num)\n"
   ]
  },
  {
   "cell_type": "code",
   "execution_count": 65,
   "metadata": {},
   "outputs": [
    {
     "name": "stdout",
     "output_type": "stream",
     "text": [
      "enter anythingu\n"
     ]
    },
    {
     "data": {
      "text/plain": [
       "117"
      ]
     },
     "execution_count": 65,
     "metadata": {},
     "output_type": "execute_result"
    }
   ],
   "source": [
    "num= input(\"enter anything\")\n",
    "ord(num)"
   ]
  },
  {
   "cell_type": "code",
   "execution_count": 76,
   "metadata": {},
   "outputs": [
    {
     "name": "stdout",
     "output_type": "stream",
     "text": [
      "enter anythingw\n",
      "no is not a voval\n"
     ]
    }
   ],
   "source": [
    "num= input(\"enter anything\")\n",
    "if (num=='a' or num==\"e\" or num==\"i\"or num==\"o\"or num==\"u\"):\n",
    "    print(\"no is voval\")\n",
    "else:\n",
    "    print(\"no is not a voval\")"
   ]
  },
  {
   "cell_type": "code",
   "execution_count": 83,
   "metadata": {},
   "outputs": [
    {
     "name": "stdout",
     "output_type": "stream",
     "text": [
      "enter anythingA\n",
      "upper\n"
     ]
    }
   ],
   "source": [
    "num= input(\"enter anything\")\n",
    "if ('a'<=num<='z'):\n",
    "    print(\"lower\")\n",
    "else:\n",
    "    print(\"upper\")"
   ]
  },
  {
   "cell_type": "code",
   "execution_count": 84,
   "metadata": {},
   "outputs": [
    {
     "name": "stdout",
     "output_type": "stream",
     "text": [
      "enter anythings\n",
      "alphabet\n"
     ]
    }
   ],
   "source": [
    "num= input(\"enter anything\")\n",
    "if ('a'<=num<='z'):\n",
    "    print(\"alphabet\")\n",
    "elif('0' <=num<= '9'):\n",
    "    print(\"digit\")\n",
    "else:\n",
    "    print(\"special character\")"
   ]
  },
  {
   "cell_type": "code",
   "execution_count": 90,
   "metadata": {},
   "outputs": [
    {
     "name": "stdout",
     "output_type": "stream",
     "text": [
      "enter weak no9\n",
      "out of range\n"
     ]
    }
   ],
   "source": [
    "num= input(\"enter weak no\")\n",
    "if (num==\"1\"):\n",
    "    print(\"monday\")\n",
    "elif(num==\"2\"):\n",
    "    print(\"tuesday\")\n",
    "elif(num==\"3\"):\n",
    "    print(\"wednesday\")\n",
    "elif(num==\"4\"):\n",
    "    print(\"thrusday\")\n",
    "elif(num==\"5\"):\n",
    "    print(\"friday\")\n",
    "elif(num==\"6\"):\n",
    "    print(\"saturday\")\n",
    "elif(num==\"7\"):\n",
    "    print(\"sunday\")\n",
    "else:\n",
    "    print(\"out of range\")"
   ]
  },
  {
   "cell_type": "code",
   "execution_count": 13,
   "metadata": {},
   "outputs": [
    {
     "ename": "IndentationError",
     "evalue": "unexpected indent (<ipython-input-13-f7668064515d>, line 6)",
     "output_type": "error",
     "traceback": [
      "\u001b[1;36m  File \u001b[1;32m\"<ipython-input-13-f7668064515d>\"\u001b[1;36m, line \u001b[1;32m6\u001b[0m\n\u001b[1;33m    if (num%4==0 and num%100!=0 or num%400==0):\u001b[0m\n\u001b[1;37m    ^\u001b[0m\n\u001b[1;31mIndentationError\u001b[0m\u001b[1;31m:\u001b[0m unexpected indent\n"
     ]
    }
   ],
   "source": [
    "month=int(input(\"enter month no\"))\n",
    "if (month==1 or month==3 or month==5 or month==7 or month==8 or month==10 or month==12):\n",
    "    print(\"31 days\")\n",
    "elif(month==2):\n",
    "            num=int(input(\"enter the year\"))\n",
    "            if (num%4==0 and num%100!=0 or num%400==0):\n",
    "                print(\"leap yr\")\n",
    "            else:\n",
    "                print(\"not a leap yr\")\n",
    "elif (month<12):\n",
    "    print (\"30 days\")\n",
    "else:\n",
    "    print(\"not a valid month\")"
   ]
  },
  {
   "cell_type": "code",
   "execution_count": null,
   "metadata": {},
   "outputs": [],
   "source": []
  }
 ],
 "metadata": {
  "kernelspec": {
   "display_name": "Python 3",
   "language": "python",
   "name": "python3"
  }
 },
 "nbformat": 4,
 "nbformat_minor": 2
}
