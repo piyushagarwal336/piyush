{
 "cells": [
  {
   "cell_type": "markdown",
   "metadata": {},
   "source": [
    " ## steps to solve a problem\n",
    "* problem defination and research\n",
    "* requirements gathering and analysis\n",
    "* project synopsis\n",
    "* algorithm\n",
    "* flow chart\n",
    "* coding\n",
    "* integration \n",
    "* testing\n",
    "* deploy\n",
    "* maintainance\n",
    "* feedback\n",
    "\n",
    "\n",
    "\n",
    "\n",
    "### maths6.042computer"
   ]
  },
  {
   "cell_type": "code",
   "execution_count": 1,
   "metadata": {},
   "outputs": [],
   "source": [
    "# algorithm problem solution in your language\n"
   ]
  },
  {
   "cell_type": "markdown",
   "metadata": {},
   "source": [
    "## atm algo\n",
    "\n",
    "step1 start\n",
    "step2 read card info\n",
    "step3 fetch the card details\n",
    "step4 ask for pin\n",
    "step5 verify pin if pin is correct go to step 6else go to step 7 (decision statement)\n",
    "step6 print main menu\n",
    "step 7\n",
    "step8 error regarding pin and exist\n",
    "step9 exit\n"
   ]
  },
  {
   "cell_type": "code",
   "execution_count": 4,
   "metadata": {},
   "outputs": [
    {
     "name": "stdout",
     "output_type": "stream",
     "text": [
      "hello world\n"
     ]
    }
   ],
   "source": [
    "print(\"hello world\") if True else print(\"world\")\n"
   ]
  },
  {
   "cell_type": "code",
   "execution_count": 3,
   "metadata": {},
   "outputs": [
    {
     "name": "stdout",
     "output_type": "stream",
     "text": [
      "enter the age 54\n",
      "vote\n"
     ]
    }
   ],
   "source": [
    "age=int(input(\"enter the age \"))\n",
    "if age>=18 :\n",
    "    print(\"vote\")\n",
    "else : \n",
    "    print(\"not vote\")"
   ]
  },
  {
   "cell_type": "code",
   "execution_count": 4,
   "metadata": {},
   "outputs": [
    {
     "name": "stdout",
     "output_type": "stream",
     "text": [
      "enter the amount in pocket5000\n",
      "go to movie\n"
     ]
    }
   ],
   "source": [
    "amount=int(input(\"enter the amount in pocket\"))\n",
    "if (amount > 1000) :\n",
    "    print(\"go to movie\")\n",
    "elif (amount >= 800):\n",
    "    print(\"go to restro\")\n",
    "else :\n",
    "    print(\"ghr \")"
   ]
  },
  {
   "cell_type": "code",
   "execution_count": 15,
   "metadata": {},
   "outputs": [
    {
     "name": "stdout",
     "output_type": "stream",
     "text": [
      "enter your professiongovernment employ\n",
      "enter your salary30000\n",
      "nikal bahr\n"
     ]
    }
   ],
   "source": [
    "profession=input(\"enter your profession\")\n",
    "if profession == \"government employ\":\n",
    "    salary=int(input(\"enter your salary\"))\n",
    "    if salary >= 50000:\n",
    "        print(\"provide loan\")\n",
    "    else:\n",
    "        print (\"nikal bahr\")\n",
    "else:\n",
    "    print(\"dont give loan\")"
   ]
  },
  {
   "cell_type": "code",
   "execution_count": 3,
   "metadata": {},
   "outputs": [
    {
     "name": "stdout",
     "output_type": "stream",
     "text": [
      "enter 1st no5\n",
      "enter 2st no9\n",
      "enter 3st no6\n",
      "b is greater\n"
     ]
    }
   ],
   "source": [
    "\n",
    "a=int(input(\"enter 1st no\"))\n",
    "b=int(input(\"enter 2st no\"))\n",
    "c=int(input(\"enter 3st no\"))\n",
    "if a>b and a>c:\n",
    "    print(\"a is greater\")\n",
    "elif b>c:\n",
    "    print(\"b is greater\")\n",
    "else:\n",
    "    print(\"c is greater\")\n",
    "    "
   ]
  },
  {
   "cell_type": "code",
   "execution_count": 7,
   "metadata": {},
   "outputs": [
    {
     "name": "stdout",
     "output_type": "stream",
     "text": [
      "enter your choicerock\n",
      "enter your choicescissor\n",
      "p2 win\n"
     ]
    }
   ],
   "source": [
    "p1=input(\"enter your choice\")\n",
    "p2=input(\"enter your choice\")\n",
    "if p1==p2:\n",
    "    print(\"tie\")\n",
    "elif (p1==\"rock \" and p2==\"scissior\") or (p1==\"paper\" and p2==\"rock\") or (p1==\"scissor \" and p2==\"rock\"):\n",
    "    print(\"p1 win\")\n",
    "else:\n",
    "    print(\"p2 win\")\n",
    "    \n",
    "\n"
   ]
  },
  {
   "cell_type": "code",
   "execution_count": null,
   "metadata": {},
   "outputs": [],
   "source": []
  }
 ],
 "metadata": {
  "kernelspec": {
   "display_name": "Python 3",
   "language": "python",
   "name": "python3"
  },
  "language_info": {
   "codemirror_mode": {
    "name": "ipython",
    "version": 3
   },
   "file_extension": ".py",
   "mimetype": "text/x-python",
   "name": "python",
   "nbconvert_exporter": "python",
   "pygments_lexer": "ipython3",
   "version": "3.6.4"
  }
 },
 "nbformat": 4,
 "nbformat_minor": 2
}
