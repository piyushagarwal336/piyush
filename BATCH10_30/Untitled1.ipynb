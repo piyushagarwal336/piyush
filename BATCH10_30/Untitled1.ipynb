{
 "cells": [
  {
   "cell_type": "code",
   "execution_count": 1,
   "metadata": {},
   "outputs": [
    {
     "name": "stdout",
     "output_type": "stream",
     "text": [
      "enter your namepiyush\n"
     ]
    }
   ],
   "source": [
    "nam=input(\"enter your name\")"
   ]
  },
  {
   "cell_type": "code",
   "execution_count": 2,
   "metadata": {},
   "outputs": [
    {
     "name": "stdout",
     "output_type": "stream",
     "text": [
      "piyush\n"
     ]
    }
   ],
   "source": [
    "print(nam)"
   ]
  },
  {
   "cell_type": "code",
   "execution_count": 4,
   "metadata": {},
   "outputs": [
    {
     "ename": "NameError",
     "evalue": "name 'keywords' is not defined",
     "output_type": "error",
     "traceback": [
      "\u001b[1;31m---------------------------------------------------------------------------\u001b[0m",
      "\u001b[1;31mNameError\u001b[0m                                 Traceback (most recent call last)",
      "\u001b[1;32m<ipython-input-4-64e522e16de3>\u001b[0m in \u001b[0;36m<module>\u001b[1;34m()\u001b[0m\n\u001b[1;32m----> 1\u001b[1;33m \u001b[0mprint\u001b[0m \u001b[1;33m(\u001b[0m\u001b[0mkeywords\u001b[0m\u001b[1;33m)\u001b[0m\u001b[1;33m\u001b[0m\u001b[0m\n\u001b[0m",
      "\u001b[1;31mNameError\u001b[0m: name 'keywords' is not defined"
     ]
    }
   ],
   "source": [
    "print (keywords)"
   ]
  },
  {
   "cell_type": "code",
   "execution_count": null,
   "metadata": {},
   "outputs": [],
   "source": []
  },
  {
   "cell_type": "code",
   "execution_count": 12,
   "metadata": {},
   "outputs": [
    {
     "name": "stdout",
     "output_type": "stream",
     "text": [
      "1 \t 2 \t 3 \t 4 \t 5 \t 6 \t 7 \t 8 \t 9\n"
     ]
    }
   ],
   "source": [
    "print(1, 2,3,4,5,6,7,8,9,sep=\" \\t \")"
   ]
  },
  {
   "cell_type": "code",
   "execution_count": 11,
   "metadata": {},
   "outputs": [
    {
     "name": "stdout",
     "output_type": "stream",
     "text": [
      "hello\tpaython\n",
      "hello bye\thii\n"
     ]
    }
   ],
   "source": [
    "print(\"hello\",\"paython\",sep='\\t')\n",
    "print(\"hello\",\"bye\",end='\\t')\n",
    "print(\"hii\")"
   ]
  },
  {
   "cell_type": "code",
   "execution_count": 14,
   "metadata": {},
   "outputs": [
    {
     "name": "stdout",
     "output_type": "stream",
     "text": [
      " Volume in drive C has no label.\n",
      " Volume Serial Number is 804F-92BC\n",
      "\n",
      " Directory of C:\\Users\\user\\Desktop\\SUMMER INTERNSHIP19\\BATCH10_30\n",
      "\n",
      "05/19/2019  10:49 AM    <DIR>          .\n",
      "05/19/2019  10:49 AM    <DIR>          ..\n",
      "05/19/2019  10:35 AM    <DIR>          .ipynb_checkpoints\n",
      "05/15/2019  10:43 AM               555 15may.ipynb\n",
      "05/17/2019  01:28 AM            17,037 16may.ipynb\n",
      "05/18/2019  10:24 AM               555 18 may.ipynb\n",
      "05/17/2019  09:37 AM             2,117 database.ipynb\n",
      "05/17/2019  01:46 PM             4,721 if else.ipynb\n",
      "05/18/2019  11:34 PM    <DIR>          pa\n",
      "05/18/2019  11:35 PM                15 pa.text\n",
      "05/16/2019  12:49 PM             1,081 sets.ipynb\n",
      "05/15/2019  12:25 PM            11,686 Untitled.ipynb\n",
      "05/19/2019  10:49 AM             2,820 Untitled1.ipynb\n",
      "               9 File(s)         40,587 bytes\n",
      "               4 Dir(s)  77,926,649,856 bytes free\n"
     ]
    }
   ],
   "source": [
    "ls"
   ]
  },
  {
   "cell_type": "markdown",
   "metadata": {},
   "source": [
    "######mglfglhkh\n",
    "#kjgkdjfkjk\n",
    "#kfngkg\n",
    "##jgkfjgkj"
   ]
  },
  {
   "cell_type": "code",
   "execution_count": 17,
   "metadata": {},
   "outputs": [
    {
     "ename": "NameError",
     "evalue": "name 're' is not defined",
     "output_type": "error",
     "traceback": [
      "\u001b[1;31m---------------------------------------------------------------------------\u001b[0m",
      "\u001b[1;31mNameError\u001b[0m                                 Traceback (most recent call last)",
      "\u001b[1;32m<ipython-input-17-b81a2a3bc45d>\u001b[0m in \u001b[0;36m<module>\u001b[1;34m()\u001b[0m\n\u001b[1;32m----> 1\u001b[1;33m \u001b[0mhelp\u001b[0m \u001b[1;33m(\u001b[0m\u001b[0mre\u001b[0m\u001b[1;33m.\u001b[0m\u001b[0mcompile\u001b[0m\u001b[1;33m)\u001b[0m\u001b[1;33m\u001b[0m\u001b[0m\n\u001b[0m",
      "\u001b[1;31mNameError\u001b[0m: name 're' is not defined"
     ]
    }
   ],
   "source": [
    "help (re.compile)"
   ]
  },
  {
   "cell_type": "code",
   "execution_count": 18,
   "metadata": {},
   "outputs": [
    {
     "data": {
      "text/plain": [
       "int"
      ]
     },
     "execution_count": 18,
     "metadata": {},
     "output_type": "execute_result"
    }
   ],
   "source": [
    "x=5\n",
    "type(x)"
   ]
  },
  {
   "cell_type": "code",
   "execution_count": 19,
   "metadata": {},
   "outputs": [
    {
     "name": "stdout",
     "output_type": "stream",
     "text": [
      "Help on built-in function eval in module builtins:\n",
      "\n",
      "eval(source, globals=None, locals=None, /)\n",
      "    Evaluate the given source in the context of globals and locals.\n",
      "    \n",
      "    The source may be a string representing a Python expression\n",
      "    or a code object as returned by compile().\n",
      "    The globals must be a dictionary and locals can be any mapping,\n",
      "    defaulting to the current globals and locals.\n",
      "    If only globals is given, locals defaults to it.\n",
      "\n"
     ]
    }
   ],
   "source": [
    "help (eval)"
   ]
  },
  {
   "cell_type": "code",
   "execution_count": 24,
   "metadata": {},
   "outputs": [
    {
     "name": "stdout",
     "output_type": "stream",
     "text": [
      "x:5,8,6,1,5\n",
      "(5, 8, 6, 1, 5)\n"
     ]
    }
   ],
   "source": [
    "x=eval(input(\"x:\"))\n",
    "print(x)"
   ]
  },
  {
   "cell_type": "code",
   "execution_count": 25,
   "metadata": {},
   "outputs": [
    {
     "data": {
      "text/plain": [
       "tuple"
      ]
     },
     "execution_count": 25,
     "metadata": {},
     "output_type": "execute_result"
    }
   ],
   "source": [
    "type(x)"
   ]
  },
  {
   "cell_type": "code",
   "execution_count": 26,
   "metadata": {},
   "outputs": [
    {
     "name": "stdout",
     "output_type": "stream",
     "text": [
      "x : 1\n",
      "y : 2\n",
      "<class 'int'> <class 'int'>\n",
      "3\n"
     ]
    }
   ],
   "source": [
    "x = eval(input(\"x : \"))\n",
    "y = eval(input(\"y : \"))\n",
    "print(type(x),type(y))\n",
    "print(x+y)\n"
   ]
  },
  {
   "cell_type": "code",
   "execution_count": 27,
   "metadata": {},
   "outputs": [
    {
     "name": "stdout",
     "output_type": "stream",
     "text": [
      "x : (1,2,3)\n",
      "y : (4,56,6)\n",
      "<class 'tuple'> <class 'tuple'>\n",
      "(1, 2, 3, 4, 56, 6)\n"
     ]
    }
   ],
   "source": [
    "x = eval(input(\"x : \"))\n",
    "y = eval(input(\"y : \"))\n",
    "print(type(x),type(y))\n",
    "print(x+y)"
   ]
  },
  {
   "cell_type": "code",
   "execution_count": 28,
   "metadata": {},
   "outputs": [
    {
     "name": "stdout",
     "output_type": "stream",
     "text": [
      "x : [1,2,3]\n",
      "y : [1,3,4]\n",
      "<class 'list'> <class 'list'>\n",
      "[1, 2, 3, 1, 3, 4]\n"
     ]
    }
   ],
   "source": [
    "x = eval(input(\"x : \"))\n",
    "y = eval(input(\"y : \"))\n",
    "print(type(x),type(y))\n",
    "print(x+y)"
   ]
  },
  {
   "cell_type": "code",
   "execution_count": 43,
   "metadata": {},
   "outputs": [
    {
     "name": "stdout",
     "output_type": "stream",
     "text": [
      "x  5,8,\n"
     ]
    },
    {
     "data": {
      "text/plain": [
       "str"
      ]
     },
     "execution_count": 43,
     "metadata": {},
     "output_type": "execute_result"
    }
   ],
   "source": [
    "x = input(\"x  \")\n",
    "type(x)"
   ]
  },
  {
   "cell_type": "code",
   "execution_count": 3,
   "metadata": {},
   "outputs": [],
   "source": [
    "mylist=['piyush','sahil','anish','chandu','inder','singh']"
   ]
  },
  {
   "cell_type": "code",
   "execution_count": 5,
   "metadata": {},
   "outputs": [
    {
     "data": {
      "text/plain": [
       "['piyush', 'sahil', 'anish', 'chandu', 'inder', 'singh']"
      ]
     },
     "execution_count": 5,
     "metadata": {},
     "output_type": "execute_result"
    }
   ],
   "source": [
    "mylist"
   ]
  },
  {
   "cell_type": "code",
   "execution_count": 14,
   "metadata": {},
   "outputs": [],
   "source": [
    "mylist.append(['agarwal'])"
   ]
  },
  {
   "cell_type": "code",
   "execution_count": 15,
   "metadata": {},
   "outputs": [
    {
     "data": {
      "text/plain": [
       "['piyush',\n",
       " 'sahil',\n",
       " 'anish',\n",
       " 'chandu',\n",
       " 'inder',\n",
       " 'singh',\n",
       " 'a',\n",
       " 'g',\n",
       " 'a',\n",
       " 'r',\n",
       " 'w',\n",
       " 'a',\n",
       " 'l',\n",
       " 'agarwal',\n",
       " ['agarwal']]"
      ]
     },
     "execution_count": 15,
     "metadata": {},
     "output_type": "execute_result"
    }
   ],
   "source": [
    "mylist"
   ]
  },
  {
   "cell_type": "code",
   "execution_count": 16,
   "metadata": {},
   "outputs": [],
   "source": [
    "from random import randint"
   ]
  },
  {
   "cell_type": "code",
   "execution_count": 23,
   "metadata": {},
   "outputs": [],
   "source": [
    "mylist = [randint(1,9) for var in range(30)]"
   ]
  },
  {
   "cell_type": "code",
   "execution_count": 24,
   "metadata": {},
   "outputs": [
    {
     "data": {
      "text/plain": [
       "[9,\n",
       " 9,\n",
       " 6,\n",
       " 1,\n",
       " 2,\n",
       " 9,\n",
       " 6,\n",
       " 3,\n",
       " 2,\n",
       " 6,\n",
       " 8,\n",
       " 7,\n",
       " 4,\n",
       " 6,\n",
       " 4,\n",
       " 9,\n",
       " 8,\n",
       " 9,\n",
       " 9,\n",
       " 2,\n",
       " 5,\n",
       " 4,\n",
       " 3,\n",
       " 2,\n",
       " 8,\n",
       " 5,\n",
       " 6,\n",
       " 3,\n",
       " 9,\n",
       " 8]"
      ]
     },
     "execution_count": 24,
     "metadata": {},
     "output_type": "execute_result"
    }
   ],
   "source": [
    "mylist"
   ]
  },
  {
   "cell_type": "code",
   "execution_count": null,
   "metadata": {},
   "outputs": [],
   "source": []
  }
 ],
 "metadata": {
  "kernelspec": {
   "display_name": "Python 3",
   "language": "python",
   "name": "python3"
  }
 },
 "nbformat": 4,
 "nbformat_minor": 2
}
