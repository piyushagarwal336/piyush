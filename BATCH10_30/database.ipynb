{
 "cells": [
  {
   "cell_type": "code",
   "execution_count": 5,
   "metadata": {},
   "outputs": [],
   "source": [
    "data={\n",
    "\"order1\":{\"delivery boy\":\"ram\",\"order name\":\"anish\",\"amount\":500,\"address\":\"gopal pura\"},\n",
    "\"order2\":{\"delivery boy\":\"shyam\",\"order name\":\"pradeep\",\"amount\":580,\"address\":\"gopal pura\"},\n",
    "\"order3\":{\"delivery boy\":\"raju\",\"order name\":\"sahil\",\"amount\":520,\"address\":\"gopal pura\"}\n",
    "}"
   ]
  },
  {
   "cell_type": "code",
   "execution_count": 7,
   "metadata": {},
   "outputs": [
    {
     "data": {
      "text/plain": [
       "'anish'"
      ]
     },
     "execution_count": 7,
     "metadata": {},
     "output_type": "execute_result"
    }
   ],
   "source": [
    "data[\"order1\"]['order name' ]"
   ]
  },
  {
   "cell_type": "code",
   "execution_count": 10,
   "metadata": {},
   "outputs": [],
   "source": [
    "    hospital={\n",
    "        \"neurology\":{\"dr.name\":\"dr.mahesh\",\"patient name\":[\"ramlal\"]},\n",
    "        \"physician\":{\"dr.name\":\"dr.rajesh\",\"patient name\":[\"pankaj\",\"nitesh\"]},\n",
    "       \"cardiology\": {\"dr.name\":\"dr.inder\",\"patient name\":[\"neha\"]}\n",
    "    }"
   ]
  },
  {
   "cell_type": "code",
   "execution_count": 13,
   "metadata": {},
   "outputs": [],
   "source": [
    "college={\n",
    "    \"1213456\":{\"stname\":\"piyush\",\"fees\":50000,\"address\":\"jaipur\"},\n",
    "    \"1234557\":{\"stname\":\"anish\",\"fees\":60000,\"address\":\"gopalpura\"}\n",
    "}"
   ]
  },
  {
   "cell_type": "code",
   "execution_count": null,
   "metadata": {},
   "outputs": [],
   "source": []
  }
 ],
 "metadata": {
  "kernelspec": {
   "display_name": "Python 3",
   "language": "python",
   "name": "python3"
  },
  "language_info": {
   "codemirror_mode": {
    "name": "ipython",
    "version": 3
   },
   "file_extension": ".py",
   "mimetype": "text/x-python",
   "name": "python",
   "nbconvert_exporter": "python",
   "pygments_lexer": "ipython3",
   "version": "3.6.4"
  }
 },
 "nbformat": 4,
 "nbformat_minor": 2
}
