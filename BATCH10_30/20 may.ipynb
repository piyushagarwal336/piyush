{
 "cells": [
  {
   "cell_type": "code",
   "execution_count": 10,
   "metadata": {},
   "outputs": [
    {
     "name": "stdout",
     "output_type": "stream",
     "text": [
      "    1    1\n",
      "    2    4\n",
      "    3    9\n",
      "    4   16\n",
      "    5   25\n",
      "    6   36\n",
      "    7   49\n",
      "    8   64\n",
      "    9   81\n",
      "   10  100\n"
     ]
    }
   ],
   "source": [
    "flag=1\n",
    "while (flag<=10):\n",
    "    print(f\"{flag:>5}{flag**2:>5}\")\n",
    "    flag=flag+1"
   ]
  },
  {
   "cell_type": "code",
   "execution_count": 1,
   "metadata": {},
   "outputs": [
    {
     "name": "stdout",
     "output_type": "stream",
     "text": [
      "enter a no5\n",
      "5*1=5\n",
      "5*2=10\n",
      "5*3=15\n",
      "5*4=20\n",
      "5*5=25\n",
      "5*6=30\n",
      "5*7=35\n",
      "5*8=40\n",
      "5*9=45\n",
      "5*10=50\n",
      "successful\n"
     ]
    }
   ],
   "source": [
    "num=int(input(\"enter a no\"))\n",
    "counter=1\n",
    "\n",
    "while counter<= 10 :\n",
    "    print (f\"{num}*{counter}={num*counter}\")\n",
    "    counter=counter+1\n",
    "else:\n",
    "    print(\"successful\")"
   ]
  },
  {
   "cell_type": "code",
   "execution_count": null,
   "metadata": {},
   "outputs": [],
   "source": [
    "s=0\n",
    "num=int(input(\"enter a no\"))\n",
    "counter=1\n",
    "while 0<=counter<=10:\n",
    "    print(f\"{s}+{num}={s+num}\")\n",
    "    s=s+num\n",
    "    counter=counter+1\n",
    "    "
   ]
  },
  {
   "cell_type": "code",
   "execution_count": 1,
   "metadata": {},
   "outputs": [
    {
     "name": "stdout",
     "output_type": "stream",
     "text": [
      "99\n",
      "97\n",
      "95\n",
      "93\n",
      "91\n",
      "89\n",
      "87\n",
      "85\n",
      "83\n",
      "81\n",
      "79\n",
      "77\n",
      "75\n",
      "73\n",
      "71\n",
      "69\n",
      "67\n",
      "65\n",
      "63\n",
      "61\n",
      "59\n",
      "57\n",
      "55\n",
      "53\n",
      "51\n",
      "49\n",
      "47\n",
      "45\n",
      "43\n",
      "41\n",
      "39\n",
      "37\n",
      "35\n",
      "33\n",
      "31\n",
      "29\n",
      "27\n",
      "25\n",
      "23\n",
      "21\n",
      "19\n",
      "17\n",
      "15\n",
      "13\n",
      "11\n",
      "9\n",
      "7\n",
      "5\n",
      "3\n",
      "1\n"
     ]
    }
   ],
   "source": [
    "c=100\n",
    "while 0<=c<=100:\n",
    "    if (c%2==0):\n",
    "        c=c-1\n",
    "    else:\n",
    "        print(f\"{c}\")\n",
    "        c=c-1"
   ]
  },
  {
   "cell_type": "code",
   "execution_count": 5,
   "metadata": {},
   "outputs": [
    {
     "name": "stdout",
     "output_type": "stream",
     "text": [
      "100,99,98,97,96,95,94,93,92,91,90,89,88,87,86,85,84,83,82,81,80,79,78,77,76,75,74,73,72,71,70,69,68,67,66,65,64,63,62,61,60,59,58,57,56,55,54,53,52,51,50,49,48,47,46,45,44,43,42,41,40,39,38,37,36,35,34,33,32,31,30,29,28,27,26,25,24,23,22,21,20,19,18,17,16,15,14,13,12,11,10,9,8,7,6,5,4,3,2,1,done\n"
     ]
    }
   ],
   "source": [
    "c=100\n",
    "while c>=1:\n",
    "    print(c,end=\",\")\n",
    "    c=c-1\n",
    "else:\n",
    "    print(\"done\")"
   ]
  },
  {
   "cell_type": "code",
   "execution_count": 1,
   "metadata": {},
   "outputs": [
    {
     "name": "stdout",
     "output_type": "stream",
     "text": [
      "5\n",
      "7\n",
      "10\n",
      "14\n",
      "15\n",
      "20\n",
      "21\n",
      "25\n",
      "28\n",
      "30\n",
      "35\n",
      "40\n",
      "42\n",
      "45\n",
      "49\n",
      "50\n",
      "55\n",
      "56\n",
      "60\n",
      "63\n",
      "65\n",
      "70\n",
      "75\n",
      "77\n",
      "80\n",
      "84\n",
      "85\n",
      "90\n",
      "91\n",
      "95\n",
      "98\n",
      "100\n"
     ]
    }
   ],
   "source": [
    "c=1\n",
    "while (c<=100):\n",
    "    if (c%5==0 or c%7==0):\n",
    "        print(c)\n",
    "    c=c+1\n",
    "    "
   ]
  },
  {
   "cell_type": "code",
   "execution_count": 2,
   "metadata": {},
   "outputs": [
    {
     "name": "stdout",
     "output_type": "stream",
     "text": [
      "35\n",
      "70\n"
     ]
    }
   ],
   "source": [
    "c=1\n",
    "while (c<=100):\n",
    "    if (c%5==0 and c%7==0):\n",
    "        print(c)\n",
    "    c=c+1\n",
    "    "
   ]
  },
  {
   "cell_type": "code",
   "execution_count": 1,
   "metadata": {},
   "outputs": [
    {
     "name": "stdout",
     "output_type": "stream",
     "text": [
      "87,92,40,54,93,30,15,18,7,6,printed\n"
     ]
    }
   ],
   "source": [
    "from random import randint\n",
    "c=1\n",
    "while c<=10:\n",
    "    print(randint(1,100),end=',')\n",
    "    c=c+1\n",
    "else:\n",
    "    print(\"printed\")"
   ]
  },
  {
   "cell_type": "code",
   "execution_count": 2,
   "metadata": {},
   "outputs": [
    {
     "name": "stdout",
     "output_type": "stream",
     "text": [
      "1\n",
      "2\n",
      "3\n",
      "4\n"
     ]
    }
   ],
   "source": [
    "c=1\n",
    "while c<=10:\n",
    "    if c<4:\n",
    "        print(c)\n",
    "        c=c+1\n",
    "    else:\n",
    "        break\n",
    "print(c)\n",
    "    "
   ]
  },
  {
   "cell_type": "code",
   "execution_count": 6,
   "metadata": {},
   "outputs": [
    {
     "name": "stdout",
     "output_type": "stream",
     "text": [
      "enter a no5\n",
      "enter a no8\n",
      "enter a no9\n",
      "enter a no58\n",
      "done\n"
     ]
    }
   ],
   "source": [
    "num= int(input(\"enter a no\"))\n",
    "while num<50:\n",
    "    num=int(input(\"enter a no\"))\n",
    "else:\n",
    "    print (\"done\")"
   ]
  },
  {
   "cell_type": "code",
   "execution_count": 7,
   "metadata": {},
   "outputs": [
    {
     "name": "stdout",
     "output_type": "stream",
     "text": [
      "press any key\n",
      "bye world\n"
     ]
    }
   ],
   "source": [
    "while input(\"press any key\"):\n",
    "    print(\"hello\")\n",
    "else:\n",
    "    print(\"bye world\")\n"
   ]
  },
  {
   "cell_type": "code",
   "execution_count": 1,
   "metadata": {},
   "outputs": [
    {
     "name": "stdout",
     "output_type": "stream",
     "text": [
      "2\n",
      "4\n",
      "6\n",
      "8\n",
      "10\n",
      "successfully\n"
     ]
    }
   ],
   "source": [
    "c=1\n",
    "while c<=10:\n",
    "    if c%2==0:\n",
    "        print(c)\n",
    "    c=c+1\n",
    "    continue\n",
    "else:\n",
    "   print(\"successfully\")"
   ]
  },
  {
   "cell_type": "code",
   "execution_count": 2,
   "metadata": {},
   "outputs": [
    {
     "name": "stdout",
     "output_type": "stream",
     "text": [
      "enter choice25\n",
      "be in limit think lower\n",
      "enter choice17\n",
      "be in limit think lower\n",
      "enter choice10\n",
      "be big think big\n",
      "enter choice14\n",
      "be big think big\n",
      "enter choice12\n",
      "be big think big\n",
      "guess was 15\n",
      "losser\n"
     ]
    }
   ],
   "source": [
    "from random import randint\n",
    "var= randint(1,50)\n",
    "life=1\n",
    "\n",
    "while life<=5:\n",
    "    num=int(input(\"enter choice\"))\n",
    "    if num>50 or num<1:\n",
    "        print(\"guess in limit\")\n",
    "        continue\n",
    "    if num>var:\n",
    "        print(\"be in limit think lower\")\n",
    "    elif num<var:\n",
    "        print(\"be big think big\")\n",
    "    else:\n",
    "        print(\"you have woon\")\n",
    "        break\n",
    "    life+=1\n",
    "else:\n",
    "    print(\"guess was\",var)\n",
    "    print(\"losser\")\n"
   ]
  },
  {
   "cell_type": "code",
   "execution_count": 13,
   "metadata": {},
   "outputs": [
    {
     "name": "stdout",
     "output_type": "stream",
     "text": [
      "enter a no121\n",
      "given num121is not prime\n"
     ]
    }
   ],
   "source": [
    "from math import sqrt,ceil\n",
    "\n",
    "num=int(input(\"enter a no\"))\n",
    "start=2\n",
    "end=num-1\n",
    "while start<=end:\n",
    "    if num%start==0:\n",
    "        print(f\"given num  {num} is not prime\")\n",
    "        break\n",
    "    start+=1\n",
    "else:\n",
    "    prnt(\"given no is prime\")"
   ]
  },
  {
   "cell_type": "code",
   "execution_count": null,
   "metadata": {},
   "outputs": [],
   "source": []
  },
  {
   "cell_type": "code",
   "execution_count": 4,
   "metadata": {},
   "outputs": [
    {
     "name": "stdout",
     "output_type": "stream",
     "text": [
      "*  \n",
      "*  \n",
      "*  \n",
      "*  \n",
      "*  \n",
      "*  \n",
      "*  \n",
      "*  \n",
      "*  \n",
      "*  \n"
     ]
    }
   ],
   "source": [
    "row=0\n",
    "while row<10:\n",
    "    col=0\n",
    "    while col<10:\n",
    "        if col<=row:\n",
    "            print(\"*\",end=\" \")\n",
    "        else:\n",
    "            break\n",
    "        col+=1\n",
    "        print(\" \")\n",
    "        row  += 1\n",
    "        "
   ]
  },
  {
   "cell_type": "code",
   "execution_count": 7,
   "metadata": {},
   "outputs": [
    {
     "name": "stdout",
     "output_type": "stream",
     "text": [
      " *  *   *    *     *      *       *        *         *          *"
     ]
    }
   ],
   "source": [
    "row=0\n",
    "while row<10:\n",
    "    col=0\n",
    "    while col<10:\n",
    "        if col<=row:\n",
    "            print(\" \",end=\"\")\n",
    "        else:\n",
    "            break\n",
    "        col+=1\n",
    "    print(\"*\",end=\"\")\n",
    "    row  += 1"
   ]
  },
  {
   "cell_type": "code",
   "execution_count": 1,
   "metadata": {},
   "outputs": [],
   "source": [
    "while False:\n",
    "    print(\"hello world\")"
   ]
  },
  {
   "cell_type": "code",
   "execution_count": 5,
   "metadata": {},
   "outputs": [
    {
     "name": "stdout",
     "output_type": "stream",
     "text": [
      "1         1\n"
     ]
    }
   ],
   "source": [
    "c=1\n",
    "print(f\"{c:<9} {c}\")"
   ]
  },
  {
   "cell_type": "code",
   "execution_count": 9,
   "metadata": {},
   "outputs": [
    {
     "name": "stdout",
     "output_type": "stream",
     "text": [
      "    5 * 1=     5\n",
      "    5 * 2=    10\n",
      "    5 * 3=    15\n",
      "    5 * 4=    20\n",
      "    5 * 5=    25\n",
      "    5 * 6=    30\n",
      "    5 * 7=    35\n",
      "    5 * 8=    40\n",
      "    5 * 9=    45\n",
      "    5 * 10=    50\n"
     ]
    }
   ],
   "source": [
    "c=1\n",
    "while c<=10:\n",
    "    print(f\"{5:>5} * {c}={5*c:>6}\")\n",
    "    c+=1"
   ]
  },
  {
   "cell_type": "code",
   "execution_count": 2,
   "metadata": {},
   "outputs": [
    {
     "name": "stdout",
     "output_type": "stream",
     "text": [
      "8,10,32,28,49,28,13,50,5,31,"
     ]
    }
   ],
   "source": [
    "from random import randint\n",
    "c=1\n",
    "while c<=10:\n",
    "    print(randint(1,50),end=\",\")\n",
    "    c+=1"
   ]
  },
  {
   "cell_type": "code",
   "execution_count": null,
   "metadata": {},
   "outputs": [
    {
     "name": "stdout",
     "output_type": "stream",
     "text": [
      "enter a no\n"
     ]
    }
   ],
   "source": [
    "key=input(\"enter a no\")\n",
    "while key:\n",
    "    key=input(\"enter a no\")\n",
    "    print (\"hello\")\n",
    "else:\n",
    "    print (\"bye world\")"
   ]
  },
  {
   "cell_type": "code",
   "execution_count": 2,
   "metadata": {},
   "outputs": [
    {
     "name": "stdout",
     "output_type": "stream",
     "text": [
      "enter a nohjjhf\n",
      "enter a notrftgf\n",
      "hello\n",
      "enter a nogf\n",
      "hello\n",
      "enter a nog\n",
      "hello\n",
      "enter a no\n",
      "hello\n",
      "bye world\n"
     ]
    }
   ],
   "source": [
    "key=input(\"enter a no\")\n",
    "while key:\n",
    "    key=input(\"enter a no\")\n",
    "    print (\"hello\")\n",
    "else:\n",
    "    print (\"bye world\")"
   ]
  },
  {
   "cell_type": "code",
   "execution_count": 3,
   "metadata": {},
   "outputs": [
    {
     "name": "stdout",
     "output_type": "stream",
     "text": [
      "Enter your Guess : 80\n",
      "Warning!!!!Guess Should be in limits 1-50\n",
      "Enter your Guess : 80\n",
      "Warning!!!!Guess Should be in limits 1-50\n",
      "Enter your Guess : 25\n",
      "Whola!! You Have Won the Game\n"
     ]
    }
   ],
   "source": [
    "from random import randint\n",
    "comGuess = randint(1,50)\n",
    "life = 1 \n",
    "\n",
    "while life <= 5 : \n",
    "    userGuess = int(input(\"Enter your Guess : \"))\n",
    "    if userGuess > 50 or userGuess < 1 :\n",
    "        print(\"Warning!!!!Guess Should be in limits 1-50\")\n",
    "        continue\n",
    "    if userGuess > comGuess : \n",
    "        print(\"Hint: Be in Limits Think Lower\")\n",
    "    elif userGuess < comGuess : \n",
    "        print(\"Hint: Be Big Think Big\")\n",
    "    else : \n",
    "        print(\"Whola!! You Have Won the Game\")\n",
    "        break\n",
    "    life += 1\n",
    "else : \n",
    "    print(\"Computer Guess Was : \",comGuess)\n",
    "    print(\"Hey!! Listen !! You such a Looser\")"
   ]
  },
  {
   "cell_type": "code",
   "execution_count": null,
   "metadata": {},
   "outputs": [],
   "source": []
  }
 ],
 "metadata": {
  "kernelspec": {
   "display_name": "Python 3",
   "language": "python",
   "name": "python3"
  },
  "language_info": {
   "codemirror_mode": {
    "name": "ipython",
    "version": 3
   },
   "file_extension": ".py",
   "mimetype": "text/x-python",
   "name": "python",
   "nbconvert_exporter": "python",
   "pygments_lexer": "ipython3",
   "version": "3.6.4"
  }
 },
 "nbformat": 4,
 "nbformat_minor": 2
}
